{
  "nbformat": 4,
  "nbformat_minor": 0,
  "metadata": {
    "colab": {
      "provenance": [],
      "authorship_tag": "ABX9TyNnJfXkALmV57SMyDlj0oi2",
      "include_colab_link": true
    },
    "kernelspec": {
      "name": "python3",
      "display_name": "Python 3"
    },
    "language_info": {
      "name": "python"
    }
  },
  "cells": [
    {
      "cell_type": "markdown",
      "metadata": {
        "id": "view-in-github",
        "colab_type": "text"
      },
      "source": [
        "<a href=\"https://colab.research.google.com/github/Vasimomar/VO/blob/master/Untitled3.ipynb\" target=\"_parent\"><img src=\"https://colab.research.google.com/assets/colab-badge.svg\" alt=\"Open In Colab\"/></a>"
      ]
    },
    {
      "cell_type": "code",
      "source": [
        "import numpy as np\n",
        "import pandas as pd\n",
        "from sklearn.linear_model import LogisticRegression\n",
        "from sklearn.feature_extraction.text import CountVectorizer\n",
        "from sklearn.model_selection import train_test_split\n",
        "\n",
        "# Define the data\n",
        "data = {\n",
        "    'Names': ['محمد','احمد',\t'عائشه',\t'مريم',\t'خلود',\t'دعاء',\t'عائشة',\t'تغريد',\t'وفيده',\t'وسيله',\t'وزيره',\t'ورد الشام',\t'وداع',\t'مظله',\t'ناريمان',\t'ناديا',\t'ميساء',\t'ميرا',\t'مياسم',\t'موده',\t'مرام',\t'صفاء',\t'حميده',\t'حوريه',\t'حنين',\t'تسنيم',\t'بسمه',\t'ايات',\t'بدوره',\t'اميه',\t'اليسار',\t'فاطمه',\t'ظلال',\t'بدور',\t'الهام',\t'غزوه',\t'بانه',\t'امينه',\t'اسماء',\t'غنى',\t'خديجه',\t'خدوج',\t'ايناس',\t'اسراء',\t'ايه',\t'اخلاص',\t'فاديه',\t'غيثاء',\t'خالديه',\t'تيماء',\t'اليف',\t'غيداء',\t'جوريه',\t'باسمه',\t'ابتسام',\t'ايمان',\t'جوهره',\t'تاليا',\t'ام كلثوم',\t'غزل',\t'بيداء',\t'براءه',\t'بتول',\t'اديبه',\t'ياسر',\t'عادل',\t'رائد',\t'عبد العال',\t'عارف',\t'رمزي',\t'رامي',\t'خطاب',\t'حذيفه',\t'جمعه',\t'جلال',\t'يونس',\t'وفا',\t'وسيم',\t'مروان',\t'عساف',\t'رامز',\t'بكران',\t'احمد',\t'وفيق',\t'عبد الرازق',\t'صادق',\t'حسام',\t'يامن',\t'عبد العزيز',\t'عبد الرحيم',\t'عبد الرحمن',\t'رياض',\t'جواد',\t'جعفر',\t'ابراهيم',\t'مصطفى',\t'رمضان',\t'طه',\t'صالح']\n",
        ",\n",
        "    'Gender': ['male','male',\t'female',\t'female',\t'female',\t'female',\t'female',\t'female',\t'female',\t'female',\t'female',\t'female',\t'female',\t'female',\t'female',\t'female',\t'female',\t'female',\t'female',\t'female',\t'female',\t'female',\t'female',\t'female',\t'female',\t'female',\t'female',\t'female',\t'female',\t'female',\t'female',\t'female',\t'female',\t'female',\t'female',\t'female',\t'female',\t'female',\t'female',\t'female',\t'female',\t'female',\t'female',\t'female',\t'female',\t'female',\t'female',\t'female',\t'female',\t'female',\t'female',\t'female',\t'female',\t'female',\t'female',\t'female',\t'female',\t'female',\t'female',\t'female',\t'female',\t'female',\t'female',\t'female',\t'male',\t'male',\t'male',\t'male',\t'male',\t'male',\t'male',\t'male',\t'male',\t'male',\t'male',\t'male',\t'male',\t'male',\t'male',\t'male',\t'male',\t'male',\t'male',\t'male',\t'male',\t'male',\t'male',\t'male',\t'male',\t'male',\t'male',\t'male',\t'male',\t'male',\t'male',\t'male',\t'male',\t'male',\t'male']\n",
        "\n",
        "}\n",
        "\n",
        "# Create a DataFrame\n",
        "df = pd.DataFrame(data)\n",
        "\n",
        "# Extract names and genders from the DataFrame\n",
        "words = df['Names'].astype(str).values\n",
        "genders = df['Gender'].astype(str).values\n",
        "\n",
        "# Use a simple bag-of-letters representation for word embeddings\n",
        "vectorizer = CountVectorizer(analyzer=\"char\", ngram_range=(1, 3))\n",
        "X = vectorizer.fit_transform(words)\n",
        "y = np.array(genders)\n",
        "\n",
        "# Split the data into training and testing sets\n",
        "X_train, X_test, y_train, y_test = train_test_split(X, y, test_size=0.2, random_state=42)\n",
        "\n",
        "# Train a logistic regression classifier\n",
        "clf = LogisticRegression(max_iter=1000)\n",
        "clf.fit(X_train, y_train)\n",
        "\n",
        "# Evaluate the classifier on the test set\n",
        "accuracy = clf.score(X_test, y_test)\n",
        "print(\"Classifier accuracy:\", accuracy)\n",
        "\n",
        "# Function to predict gender connotation of a word\n",
        "def analyze_gender_connotation(word):\n",
        "    word_vec = vectorizer.transform([word])\n",
        "    gender = clf.predict(word_vec)[0]\n",
        "    return gender\n",
        "\n",
        "while True:\n",
        "    # Ask the user to input the word\n",
        "    word = input(\"Enter a word or name to analyze its gender connotation: \")\n",
        "    if word.lower() == \"quit\":\n",
        "        break\n",
        "    # Analyze the gender connotation of the provided word\n",
        "    gender = analyze_gender_connotation(word)\n",
        "    # Display the result\n",
        "    print(f\"Predicted gender: {gender}\")\n"
      ],
      "metadata": {
        "colab": {
          "base_uri": "https://localhost:8080/"
        },
        "id": "41T32cUOCGPS",
        "outputId": "52d6bcc4-c097-4be4-9478-4e7eeca5f534"
      },
      "execution_count": null,
      "outputs": [
        {
          "output_type": "stream",
          "name": "stdout",
          "text": [
            "Classifier accuracy: 0.8\n"
          ]
        }
      ]
    },
    {
      "cell_type": "code",
      "source": [],
      "metadata": {
        "id": "kKnEGcZn4RXL"
      },
      "execution_count": null,
      "outputs": []
    }
  ]
}